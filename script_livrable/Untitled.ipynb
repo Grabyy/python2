{
 "cells": [
  {
   "cell_type": "markdown",
   "id": "bf73aacb",
   "metadata": {},
   "source": [
    "# Les bases de Pytest\n",
    "\n",
    "###### Alexandre Rizsk et Gabriel Tourillon - M1ISDD \n",
    "\n",
    "\n",
    "\n",
    "## Introduction : Tester son code ? \n",
    "\n",
    "Au cours du développement d'un projet impliquant plusieurs développeurs, il devient vite difficile de suivre tous les ajouts, suppression et modification faite. L'utilisation tests automatisés est une des rares technique qui s'est avérée efficace pour assurer une cohérence dans le projet et créer des logiciels fiables. Tester son code devient même une obligation lors du développement d'API (interface logiciel-logiciel) ou d'interface utilisateur, car il est quasiment impossible de prévoir tous les bugs possibles.\n",
    "De plus pour des langages à typage dynamique comme python, les tests sont très utiles pour éviter les erreurs de typage et garantir l'exactitude du programme.\n",
    "\n",
    "Tester son logiciel est donc essentiel si l'on souhaite se prévenir de nombreux problèmes qui peuvent subvenir au cours du développement et lors de sa sortie.\n",
    "\n",
    "\n",
    "\n",
    "## Fonctionnement de pytest\n",
    "\n",
    "Cette partie deviendra plus claire (du moins, nous l'espérons) à la lumière des lectures suivante.\n",
    "\n",
    "### Qu’est-ce que pytest ? \n",
    "\n",
    "Pytest est un framework (module) de test. Sa premiere version est apparue en janvier 2007, aujourd'hui nous en somme à la version 7.1.3 sortie le 31/08/2022.\n",
    "Pytest permet aux utilisateurs de créer des programmes qui on pour but tester des script Python.\n",
    "\n",
    "Surtout utilisé pour créer des tests d'API, pytest permet d'écrire de nombreux des tests unitaires simples aux tests d'integration (detaillés plus loin sur ce notebook).\n",
    "\n",
    "\n",
    "### Avantage de pytest \n",
    "\n",
    "À la différence d'autre framework de test qui utilise des classes, pytest permet de créer des fonctions de test. Utiliser des fonctions rend la prise en main de pytest naturelle et améliore la lisibilité des scripts de test. Un autre avantage majeur est que pytest nous permet de sauter des tests lors de l'exécution, cela évite d'échouer a toute notre série, car il nous manque un bout de code.\n",
    "Un dernier avantage notable et sa capacité de charger des tests en parallèle, ce qui est un gain de temps important.\n",
    "\n",
    "\n",
    "\n",
    "## Installation de pytest\n",
    "\n",
    "Avec conda il suffie d'entrée la ligne suivante dans un terminal :"
   ]
  },
  {
   "cell_type": "code",
   "execution_count": 7,
   "id": "103cf74f",
   "metadata": {},
   "outputs": [
    {
     "ename": "SyntaxError",
     "evalue": "invalid syntax (1536539650.py, line 1)",
     "output_type": "error",
     "traceback": [
      "\u001b[0;36m  File \u001b[0;32m\"/var/folders/hm/ng7126p972zd_jyg3458jj7r0000gn/T/ipykernel_64933/1536539650.py\"\u001b[0;36m, line \u001b[0;32m1\u001b[0m\n\u001b[0;31m    conda install -c anaconda pytest\u001b[0m\n\u001b[0m          ^\u001b[0m\n\u001b[0;31mSyntaxError\u001b[0m\u001b[0;31m:\u001b[0m invalid syntax\n"
     ]
    }
   ],
   "source": [
    "conda install -c anaconda pytest\n",
    "\n",
    "#Pour que les test fonctionne sur un notebook, nous devont utiliser le module ipython :\n",
    "pip install ipytest"
   ]
  },
  {
   "cell_type": "markdown",
   "id": "0bf032cc",
   "metadata": {},
   "source": [
    "## Tutoriel\n",
    "\n",
    "Ces fonctions sont implementer dans le script demo.py\n",
    "\n"
   ]
  },
  {
   "cell_type": "code",
   "execution_count": 8,
   "id": "4de201ac",
   "metadata": {},
   "outputs": [],
   "source": [
    "import pytest\n",
    "\n",
    "\n",
    "#Utilisation de ipytest pour pouvoir utiliser pytest sur notebook\n",
    "import ipytest\n",
    "ipytest.autoconfig()"
   ]
  },
  {
   "cell_type": "code",
   "execution_count": 11,
   "id": "2d3a4f42",
   "metadata": {},
   "outputs": [
    {
     "name": "stdout",
     "output_type": "stream",
     "text": [
      "\u001b[31mF\u001b[0m\u001b[31m                                                                                            [100%]\u001b[0m\n",
      "============================================= FAILURES =============================================\n",
      "\u001b[31m\u001b[1m___________________________________________ test_facile ____________________________________________\u001b[0m\n",
      "\n",
      "    \u001b[94mdef\u001b[39;49;00m \u001b[92mtest_facile\u001b[39;49;00m():\n",
      ">       \u001b[94massert\u001b[39;49;00m \u001b[94m1\u001b[39;49;00m == \u001b[94m6\u001b[39;49;00m\n",
      "\u001b[1m\u001b[31mE       assert 1 == 6\u001b[0m\n",
      "\n",
      "\u001b[1m\u001b[31m/var/folders/hm/ng7126p972zd_jyg3458jj7r0000gn/T/ipykernel_64933/893733786.py\u001b[0m:2: AssertionError\n",
      "===================================== short test summary info ======================================\n",
      "FAILED tmpkel4qfdj.py::test_facile - assert 1 == 6\n"
     ]
    }
   ],
   "source": [
    "%%ipytest -qq\n",
    "\n",
    "def test_facile():\n",
    "    assert 1 == 6"
   ]
  }
 ],
 "metadata": {
  "kernelspec": {
   "display_name": "Python 3 (ipykernel)",
   "language": "python",
   "name": "python3"
  },
  "language_info": {
   "codemirror_mode": {
    "name": "ipython",
    "version": 3
   },
   "file_extension": ".py",
   "mimetype": "text/x-python",
   "name": "python",
   "nbconvert_exporter": "python",
   "pygments_lexer": "ipython3",
   "version": "3.10.6"
  }
 },
 "nbformat": 4,
 "nbformat_minor": 5
}
